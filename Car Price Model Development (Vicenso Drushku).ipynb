{
 "cells": [
  {
   "cell_type": "markdown",
   "id": "298916c3",
   "metadata": {},
   "source": [
    "# Car Price Model Development\n",
    "\n",
    "In this section, several models will be developed that will predict the price of the car using the variables or features. This will be just an estimation but it should give an objective idea of how much a car should cost.\n",
    "\n",
    "Some questions taht can be answered after creating the model:\n",
    "\n",
    "+ Do I know if the dealer is offering fair value for my trade-in?\n",
    "+ Do I know if I put a fair value on my car?\n",
    "\n",
    "In data analytics, Model Development is often used to help us predict future observations from the data we have.\n",
    "\n",
    "A model will help us understand the exact relationship between different variables and how these variables are used to predict the result."
   ]
  },
  {
   "cell_type": "markdown",
   "id": "9a7574d2",
   "metadata": {},
   "source": [
    "##### First we import the libraries"
   ]
  },
  {
   "cell_type": "code",
   "execution_count": null,
   "id": "f5454a86",
   "metadata": {},
   "outputs": [],
   "source": [
    "import pandas as pd\n",
    "import numpy as np\n",
    "import matplotlib.pyplot as plt"
   ]
  },
  {
   "cell_type": "markdown",
   "id": "c2c399d6",
   "metadata": {},
   "source": [
    "Then we create a path to our dataset and load it into a dataframe. "
   ]
  },
  {
   "cell_type": "code",
   "execution_count": null,
   "id": "ae7f931c",
   "metadata": {},
   "outputs": [],
   "source": [
    "path = 'https://cf-courses-data.s3.us.cloud-object-storage.appdomain.cloud/IBMDeveloperSkillsNetwork-DA0101EN-SkillsNetwork/labs/Data%20files/automobileEDA.csv'\n",
    "df = pd.read_csv(path)\n",
    "df.head()"
   ]
  },
  {
   "cell_type": "markdown",
   "id": "36cdc5d5",
   "metadata": {},
   "source": [
    "### Let's start first with Linear Regression and Multiple Linear Regression"
   ]
  },
  {
   "cell_type": "markdown",
   "id": "3523e748",
   "metadata": {},
   "source": [
    "We load the modules for linear regression and create a linear regression object from the library **\"scikit.learn\"**."
   ]
  },
  {
   "cell_type": "code",
   "execution_count": null,
   "id": "80e9f34d",
   "metadata": {},
   "outputs": [],
   "source": [
    "from sklearn.linear_model import LinearRegression\n",
    "lm = LinearRegression()\n",
    "lm"
   ]
  },
  {
   "cell_type": "markdown",
   "id": "5f8c653f",
   "metadata": {},
   "source": [
    "For the linear regression model we choose one of the features to fit in our model. In this case we choose `'highway-mpg'` as a predictor variable and `'price'` as a response variable."
   ]
  },
  {
   "cell_type": "code",
   "execution_count": null,
   "id": "003bd4c6",
   "metadata": {},
   "outputs": [],
   "source": [
    "X = df[['highway-mpg']]\n",
    "Y = df['price']\n",
    "lm.fit(X,Y)           # Fitting the linear model using mpg"
   ]
  },
  {
   "cell_type": "markdown",
   "id": "027bb8f0",
   "metadata": {},
   "source": [
    "A prediction can be output:"
   ]
  },
  {
   "cell_type": "code",
   "execution_count": null,
   "id": "2e932cbe",
   "metadata": {},
   "outputs": [],
   "source": [
    "Yhat=lm.predict(X)\n",
    "Yhat[0:5]"
   ]
  },
  {
   "cell_type": "markdown",
   "id": "08866d74",
   "metadata": {},
   "source": [
    "The values of intercept and slope can also be calculated:"
   ]
  },
  {
   "cell_type": "code",
   "execution_count": null,
   "id": "9a348646",
   "metadata": {},
   "outputs": [],
   "source": [
    "print('The intercept value is:',lm.intercept_)\n",
    "print('The slope is:',lm.coef_)"
   ]
  },
  {
   "cell_type": "markdown",
   "id": "455e622b",
   "metadata": {},
   "source": [
    "### Multilinear regression\n",
    "\n",
    "Even without the help of statistics we know that the highway mpg alone is not enough to accurately predict the price of a car. In this case it is crucial to take into account more features and train our model by using them. "
   ]
  },
  {
   "cell_type": "code",
   "execution_count": null,
   "id": "285d00f1",
   "metadata": {},
   "outputs": [],
   "source": [
    "Z = df[['horsepower', 'curb-weight', 'engine-size', 'highway-mpg']]"
   ]
  },
  {
   "cell_type": "code",
   "execution_count": null,
   "id": "3bd5ba24",
   "metadata": {},
   "outputs": [],
   "source": [
    "lm.fit(Z, df['price'])        # Fit the values into the model"
   ]
  },
  {
   "cell_type": "code",
   "execution_count": null,
   "id": "f0001523",
   "metadata": {},
   "outputs": [],
   "source": [
    "print('The intercept value is:',lm.intercept_)\n",
    "print('The slope is:',lm.coef_)"
   ]
  },
  {
   "cell_type": "markdown",
   "id": "fe720c81",
   "metadata": {},
   "source": [
    "### Evaluating the model using visualization"
   ]
  },
  {
   "cell_type": "code",
   "execution_count": null,
   "id": "c8a91f89",
   "metadata": {},
   "outputs": [],
   "source": [
    "# import the visualization package: seaborn\n",
    "import seaborn as sns\n",
    "%matplotlib inline "
   ]
  },
  {
   "cell_type": "markdown",
   "id": "d718d9b8",
   "metadata": {},
   "source": [
    "Let's visualize **highway-mpg** as potential predictor variable of price:"
   ]
  },
  {
   "cell_type": "code",
   "execution_count": null,
   "id": "fc6efd15",
   "metadata": {},
   "outputs": [],
   "source": [
    "width = 8\n",
    "height = 6\n",
    "plt.figure(figsize=(width, height))\n",
    "sns.regplot(x=\"highway-mpg\", y=\"price\", data=df)\n",
    "plt.ylim(0,)"
   ]
  },
  {
   "cell_type": "markdown",
   "id": "73a8ae1f",
   "metadata": {},
   "source": [
    "We can see from this plot that price is negatively correlated to highway-mpg since the regression slope is negative. However the data points seem to be a bit too far from the regression line which can be an indication that this linear model might not be the best fit.\n",
    "\n",
    "Let us try doing the same with peak rpm."
   ]
  },
  {
   "cell_type": "code",
   "execution_count": null,
   "id": "b875e77b",
   "metadata": {},
   "outputs": [],
   "source": [
    "plt.figure(figsize=(width, height))\n",
    "sns.regplot(x=\"peak-rpm\", y=\"price\", data=df)\n",
    "plt.ylim(0,)"
   ]
  },
  {
   "cell_type": "markdown",
   "id": "daee4349",
   "metadata": {},
   "source": [
    "Comparing the regression plot of \"peak-rpm\" and \"highway-mpg\", we see that the points for \"highway-mpg\" are much closer to the generated line and, on average, decrease. This graph shows us that the correlation between 'peak-rpm' and 'price' is weak. We can further prove this by using the **.corr()** method."
   ]
  },
  {
   "cell_type": "code",
   "execution_count": null,
   "id": "48c9efcf",
   "metadata": {},
   "outputs": [],
   "source": [
    "df[[\"peak-rpm\",\"highway-mpg\",\"price\"]].corr()"
   ]
  },
  {
   "cell_type": "markdown",
   "id": "295a67ae",
   "metadata": {},
   "source": [
    "In order to visualize and see whether a linear model is appropriate for the data is using a residual plot. If the points in a residual plot are randomly spread out around the x-axis, then a linear model is appropriate for the data."
   ]
  },
  {
   "cell_type": "code",
   "execution_count": null,
   "id": "76aa89f3",
   "metadata": {},
   "outputs": [],
   "source": [
    "plt.figure(figsize=(width, height))\n",
    "sns.residplot(x=df['highway-mpg'],y=df['price'])\n",
    "plt.show()"
   ]
  },
  {
   "cell_type": "markdown",
   "id": "726c8e7d",
   "metadata": {},
   "source": [
    "Here we see that the point are not evenly spread out so a non-linear model might be a better fit. \n",
    "\n",
    "The multiple linear regression model that was created earlier cannot be visualized with regression or residual plot. One way to look at the fit of the model is by looking at the **distribution plot**. We can look at the distribution of the fitted values that result from the model and compare it to the distribution of the actual values."
   ]
  },
  {
   "cell_type": "code",
   "execution_count": null,
   "id": "6f365871",
   "metadata": {},
   "outputs": [],
   "source": [
    "Y_hat = lm.predict(Z)       # First make the prediction"
   ]
  },
  {
   "cell_type": "code",
   "execution_count": null,
   "id": "5bdcdd96",
   "metadata": {},
   "outputs": [],
   "source": [
    "plt.figure(figsize=(width, height))                   #Then we compare it to the actual value\n",
    "\n",
    "\n",
    "ax1 = sns.distplot(df['price'], hist=False, color=\"r\", label=\"Actual Value\")\n",
    "sns.distplot(Y_hat, hist=False, color=\"b\", label=\"Fitted Values\" , ax=ax1)\n",
    "\n",
    "\n",
    "plt.title('Actual vs Fitted Values for Price')\n",
    "plt.xlabel('Price (in dollars)')\n",
    "plt.ylabel('Proportion of Cars')\n",
    "\n",
    "plt.show()\n",
    "plt.close()"
   ]
  },
  {
   "cell_type": "markdown",
   "id": "babdc031",
   "metadata": {},
   "source": [
    "We can see that the fitted values are reasonably close to the actual values since the two distributions overlap a bit. However, there is definitely some room for improvement."
   ]
  },
  {
   "cell_type": "markdown",
   "id": "fd718f9e",
   "metadata": {},
   "source": [
    "### Using polynomial regression and pipelines"
   ]
  },
  {
   "cell_type": "markdown",
   "id": "42bb7285",
   "metadata": {},
   "source": [
    "We will use the following function to plot the data:"
   ]
  },
  {
   "cell_type": "code",
   "execution_count": null,
   "id": "f301a555",
   "metadata": {},
   "outputs": [],
   "source": [
    "def PlotPolly(model, independent_variable, dependent_variabble, Name):\n",
    "    x_new = np.linspace(15, 55, 100)\n",
    "    y_new = model(x_new)\n",
    "\n",
    "    plt.plot(independent_variable, dependent_variabble, '.', x_new, y_new, '-')\n",
    "    plt.title('Polynomial Fit with Matplotlib for Price ~ Length')\n",
    "    ax = plt.gca()\n",
    "    ax.set_facecolor((0.898, 0.898, 0.898))\n",
    "    fig = plt.gcf()\n",
    "    plt.xlabel(Name)\n",
    "    plt.ylabel('Price of Cars')\n",
    "\n",
    "    plt.show()\n",
    "    plt.close()"
   ]
  },
  {
   "cell_type": "markdown",
   "id": "02966f08",
   "metadata": {},
   "source": [
    "Let's get the variables:"
   ]
  },
  {
   "cell_type": "code",
   "execution_count": null,
   "id": "3231b8be",
   "metadata": {},
   "outputs": [],
   "source": [
    "x = df['highway-mpg']\n",
    "y = df['price']"
   ]
  },
  {
   "cell_type": "markdown",
   "id": "b23b0531",
   "metadata": {},
   "source": [
    "Let's fit the polynomial using the function polyfit, then use the function poly1d to display the polynomial function."
   ]
  },
  {
   "cell_type": "code",
   "execution_count": null,
   "id": "109586b1",
   "metadata": {},
   "outputs": [],
   "source": [
    "# Here we use a polynomial of the 3rd order (cubic) \n",
    "f = np.polyfit(x, y, 3)\n",
    "p = np.poly1d(f)\n",
    "print(p)"
   ]
  },
  {
   "cell_type": "code",
   "execution_count": null,
   "id": "8f96d164",
   "metadata": {},
   "outputs": [],
   "source": [
    "PlotPolly(p, x, y, 'highway-mpg')"
   ]
  },
  {
   "cell_type": "markdown",
   "id": "117e3518",
   "metadata": {},
   "source": [
    "We can see from plotting that this polynomial model performs better than the linear model. This is because the generated polynomial function \"hits\" more of the data points."
   ]
  },
  {
   "cell_type": "markdown",
   "id": "54811d27",
   "metadata": {},
   "source": [
    "We can perform a polynomial transform on multiple features. First, we import the module:"
   ]
  },
  {
   "cell_type": "code",
   "execution_count": null,
   "id": "bcb99320",
   "metadata": {},
   "outputs": [],
   "source": [
    "from sklearn.preprocessing import PolynomialFeatures"
   ]
  },
  {
   "cell_type": "markdown",
   "id": "92b1fe86",
   "metadata": {},
   "source": [
    "We create a PolynomialFeatures object of degree 2:"
   ]
  },
  {
   "cell_type": "code",
   "execution_count": null,
   "id": "2e37975a",
   "metadata": {},
   "outputs": [],
   "source": [
    "pr=PolynomialFeatures(degree=2)\n",
    "pr"
   ]
  },
  {
   "cell_type": "code",
   "execution_count": null,
   "id": "23555525",
   "metadata": {},
   "outputs": [],
   "source": [
    "Z_pr=pr.fit_transform(Z)"
   ]
  },
  {
   "cell_type": "markdown",
   "id": "acdcdbe5",
   "metadata": {},
   "source": [
    "In the original data, there are 201 samples and 4 features."
   ]
  },
  {
   "cell_type": "code",
   "execution_count": null,
   "id": "129dff68",
   "metadata": {},
   "outputs": [],
   "source": [
    "Z.shape"
   ]
  },
  {
   "cell_type": "markdown",
   "id": "3380180a",
   "metadata": {},
   "source": [
    "After the transformation, there are 201 samples and 15 features."
   ]
  },
  {
   "cell_type": "code",
   "execution_count": null,
   "id": "6f8bbe3a",
   "metadata": {},
   "outputs": [],
   "source": [
    "Z_pr.shape"
   ]
  },
  {
   "cell_type": "markdown",
   "id": "8b497690",
   "metadata": {},
   "source": [
    "### Pipeline"
   ]
  },
  {
   "cell_type": "code",
   "execution_count": null,
   "id": "5cae6603",
   "metadata": {},
   "outputs": [],
   "source": [
    "from sklearn.pipeline import Pipeline\n",
    "from sklearn.preprocessing import StandardScaler"
   ]
  },
  {
   "cell_type": "markdown",
   "id": "f4ed6d7b",
   "metadata": {},
   "source": [
    "We create the pipeline by creating a list of tuples including the name of the model or estimator and its corresponding constructor."
   ]
  },
  {
   "cell_type": "code",
   "execution_count": null,
   "id": "74e1ec55",
   "metadata": {},
   "outputs": [],
   "source": [
    "Input=[('scale',StandardScaler()), ('polynomial', PolynomialFeatures(include_bias=False)), ('model',LinearRegression())]"
   ]
  },
  {
   "cell_type": "markdown",
   "id": "bf2e8e09",
   "metadata": {},
   "source": [
    "We input the list as an argument to the pipeline constructor:"
   ]
  },
  {
   "cell_type": "code",
   "execution_count": null,
   "id": "d503826d",
   "metadata": {},
   "outputs": [],
   "source": [
    "pipe=Pipeline(Input)\n",
    "pipe"
   ]
  },
  {
   "cell_type": "markdown",
   "id": "3e704502",
   "metadata": {},
   "source": [
    "First, we convert the data type Z to type float to avoid conversion warnings that may appear as a result of StandardScaler taking float inputs.\n",
    "\n",
    "Then, we can normalize the data, perform a transform and fit the model simultaneously."
   ]
  },
  {
   "cell_type": "code",
   "execution_count": null,
   "id": "57989c6c",
   "metadata": {},
   "outputs": [],
   "source": [
    "Z = Z.astype(float)\n",
    "pipe.fit(Z,y)"
   ]
  },
  {
   "cell_type": "markdown",
   "id": "cdae825a",
   "metadata": {},
   "source": [
    "Similarly, we can normalize the data, perform a transform and produce a prediction simultaneously."
   ]
  },
  {
   "cell_type": "code",
   "execution_count": null,
   "id": "792a9d3a",
   "metadata": {},
   "outputs": [],
   "source": [
    "ypipe=pipe.predict(Z)\n",
    "ypipe[0:4]"
   ]
  },
  {
   "cell_type": "markdown",
   "id": "6a292b3b",
   "metadata": {},
   "source": [
    "## Calculating the Mean Squared Error and R^2"
   ]
  },
  {
   "cell_type": "markdown",
   "id": "e66a8ee4",
   "metadata": {},
   "source": [
    "#### Model 1 Simple Linear Regression"
   ]
  },
  {
   "cell_type": "markdown",
   "id": "5f2746ec",
   "metadata": {},
   "source": [
    "Calculating R^2"
   ]
  },
  {
   "cell_type": "code",
   "execution_count": null,
   "id": "235d8638",
   "metadata": {},
   "outputs": [],
   "source": [
    "#highway_mpg_fit\n",
    "lm.fit(X, Y)\n",
    "# Find the R^2\n",
    "print('The R-square is: ', lm.score(X, Y))"
   ]
  },
  {
   "cell_type": "markdown",
   "id": "c41d178e",
   "metadata": {},
   "source": [
    "We can say that ~49.659% of the variation of the price is explained by this simple linear model \"horsepower_fit\".\n",
    "\n",
    "Let's calculate the MSE:\n",
    "\n",
    "We can predict the output i.e., \"yhat\" using the predict method, where X is the input variable:"
   ]
  },
  {
   "cell_type": "code",
   "execution_count": null,
   "id": "789c9771",
   "metadata": {},
   "outputs": [],
   "source": [
    "Yhat=lm.predict(X)\n",
    "print('The output of the first four predicted value is: ', Yhat[0:4])"
   ]
  },
  {
   "cell_type": "markdown",
   "id": "0e1d1748",
   "metadata": {},
   "source": [
    "Let's import the function mean_squared_error from the module metrics:"
   ]
  },
  {
   "cell_type": "code",
   "execution_count": null,
   "id": "bb57ac3c",
   "metadata": {},
   "outputs": [],
   "source": [
    "from sklearn.metrics import mean_squared_error"
   ]
  },
  {
   "cell_type": "markdown",
   "id": "f44fc261",
   "metadata": {},
   "source": [
    "We can compare the predicted results with the actual results:"
   ]
  },
  {
   "cell_type": "code",
   "execution_count": null,
   "id": "150528f9",
   "metadata": {},
   "outputs": [],
   "source": [
    "mse = mean_squared_error(df['price'], Yhat)\n",
    "print('The mean square error of price and predicted value is: ', mse)"
   ]
  },
  {
   "cell_type": "markdown",
   "id": "30ded004",
   "metadata": {},
   "source": [
    "#### Model 2 Multiple Linear Regression"
   ]
  },
  {
   "cell_type": "markdown",
   "id": "6d41bc0d",
   "metadata": {},
   "source": [
    "Calculating R^2"
   ]
  },
  {
   "cell_type": "code",
   "execution_count": null,
   "id": "38f0df82",
   "metadata": {},
   "outputs": [],
   "source": [
    "# fit the model \n",
    "lm.fit(Z, df['price'])\n",
    "# Find the R^2\n",
    "print('The R-square is: ', lm.score(Z, df['price']))"
   ]
  },
  {
   "cell_type": "markdown",
   "id": "e376b2fe",
   "metadata": {},
   "source": [
    "We can say that ~80.935 % of the variation of price is explained by this multiple linear regression \"multi_fit\".\n",
    "\n",
    "Let's calculate the MSE.\n",
    "\n",
    "We produce a prediction:"
   ]
  },
  {
   "cell_type": "code",
   "execution_count": null,
   "id": "9ee85dec",
   "metadata": {},
   "outputs": [],
   "source": [
    "Y_predict_multifit = lm.predict(Z)"
   ]
  },
  {
   "cell_type": "markdown",
   "id": "6dedb8b3",
   "metadata": {},
   "source": [
    "We compare the predicted results with the actual results:"
   ]
  },
  {
   "cell_type": "code",
   "execution_count": null,
   "id": "73294fbf",
   "metadata": {},
   "outputs": [],
   "source": [
    "print('The mean square error of price and predicted value using multifit is: ', \\\n",
    "      mean_squared_error(df['price'], Y_predict_multifit))"
   ]
  },
  {
   "cell_type": "markdown",
   "id": "b3921588",
   "metadata": {},
   "source": [
    "#### Model 3: Polynomial Fit"
   ]
  },
  {
   "cell_type": "markdown",
   "id": "8eafd702",
   "metadata": {},
   "source": [
    "Calculating the R^2.\n",
    "\n",
    "Let’s import the function r2_score from the module metrics as we are using a different function."
   ]
  },
  {
   "cell_type": "code",
   "execution_count": null,
   "id": "2d1bf5b8",
   "metadata": {},
   "outputs": [],
   "source": [
    "from sklearn.metrics import r2_score"
   ]
  },
  {
   "cell_type": "markdown",
   "id": "89007620",
   "metadata": {},
   "source": [
    "We apply the function to get the value of R^2:"
   ]
  },
  {
   "cell_type": "code",
   "execution_count": null,
   "id": "bff6467e",
   "metadata": {},
   "outputs": [],
   "source": [
    "r_squared = r2_score(y, p(x))\n",
    "print('The R-square value is: ', r_squared)"
   ]
  },
  {
   "cell_type": "markdown",
   "id": "c1915489",
   "metadata": {},
   "source": [
    "We can say that ~67.419 % of the variation of price is explained by this polynomial fit."
   ]
  },
  {
   "cell_type": "markdown",
   "id": "fd9a00a9",
   "metadata": {},
   "source": [
    "##### MSE\n",
    "\n",
    "We can also calculate the MSE:"
   ]
  },
  {
   "cell_type": "code",
   "execution_count": null,
   "id": "a9534193",
   "metadata": {},
   "outputs": [],
   "source": [
    "mean_squared_error(df['price'], p(x))"
   ]
  },
  {
   "cell_type": "code",
   "execution_count": null,
   "id": "a364cac5",
   "metadata": {},
   "outputs": [],
   "source": []
  }
 ],
 "metadata": {
  "kernelspec": {
   "display_name": "Python 3 (ipykernel)",
   "language": "python",
   "name": "python3"
  },
  "language_info": {
   "codemirror_mode": {
    "name": "ipython",
    "version": 3
   },
   "file_extension": ".py",
   "mimetype": "text/x-python",
   "name": "python",
   "nbconvert_exporter": "python",
   "pygments_lexer": "ipython3",
   "version": "3.9.12"
  }
 },
 "nbformat": 4,
 "nbformat_minor": 5
}
